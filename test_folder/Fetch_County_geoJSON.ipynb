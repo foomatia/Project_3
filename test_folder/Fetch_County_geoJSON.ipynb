{
 "cells": [
  {
   "cell_type": "code",
   "execution_count": 30,
   "id": "01741bbd",
   "metadata": {},
   "outputs": [],
   "source": [
    "# Import dependencies\n",
    "import pandas as pd\n",
    "from config import geo_key\n",
    "from pprint import pprint\n",
    "import requests\n",
    "import json"
   ]
  },
  {
   "cell_type": "code",
   "execution_count": 31,
   "id": "0f52c3c7",
   "metadata": {},
   "outputs": [],
   "source": [
    "codes = ['E08000025','E10000028','E10000031','E10000034','E06000051','E08000028',\n",
    "         'E08000026','E08000030','E08000027','E06000019','E08000031','E06000021',\n",
    "         'E08000029','E06000020']"
   ]
  },
  {
   "cell_type": "code",
   "execution_count": 33,
   "id": "36f2f375",
   "metadata": {},
   "outputs": [
    {
     "name": "stdout",
     "output_type": "stream",
     "text": [
      "Code: E08000025 - Completed\n",
      "-------------------------------------------\n",
      "Code: E10000028 - Completed\n",
      "-------------------------------------------\n",
      "Code: E10000031 - Completed\n",
      "-------------------------------------------\n",
      "Code: E10000034 - Completed\n",
      "-------------------------------------------\n",
      "Code: E06000051 - Completed\n",
      "-------------------------------------------\n",
      "Code: E08000028 - Completed\n",
      "-------------------------------------------\n",
      "Code: E08000026 - Completed\n",
      "-------------------------------------------\n",
      "Code: E08000030 - Completed\n",
      "-------------------------------------------\n",
      "Code: E08000027 - Completed\n",
      "-------------------------------------------\n",
      "Code: E06000019 - Completed\n",
      "-------------------------------------------\n",
      "Code: E08000031 - Completed\n",
      "-------------------------------------------\n",
      "Code: E06000021 - Completed\n",
      "-------------------------------------------\n",
      "Code: E08000029 - Completed\n",
      "-------------------------------------------\n",
      "Code: E06000020 - Completed\n",
      "-------------------------------------------\n"
     ]
    }
   ],
   "source": [
    "# Loop through the codes\n",
    "for code in codes:\n",
    "    \n",
    "    # base url declare\n",
    "    base_url = \"https://services1.arcgis.com/ESMARspQHYMw9BZ9/arcgis/rest/services/CTYUA_Apr_2019_UGCB_Great_Britain_2022/FeatureServer/0/query\"\n",
    "    \n",
    "    # Setup params\n",
    "    params = {\n",
    "        \"outFields\":\"*\",\n",
    "        \"where\":f\"ctyua19cd='{code}'\",\n",
    "        \"f\":\"geojson\",\n",
    "        \"geometryType\": \"esriGeometryPolygon\"\n",
    "    }\n",
    "    \n",
    "    # Make request to API\n",
    "    response = requests.get(base_url, params=params)\n",
    "    \n",
    "    # jsonify response\n",
    "    response_json = response.json()\n",
    "    \n",
    "    # County name\n",
    "    county = response_json['features'][0]['properties']['ctyua19nm']\n",
    "    filename = county.lower().replace(\" \",\"_\")\n",
    "    \n",
    "    # Create file to name of county\n",
    "    file_1 = open(f'../static/geojson/{filename}.geojson', 'w')\n",
    "    file_1.write(json.dumps(response_json))\n",
    "    file_1.close\n",
    "    \n",
    "    # Print confirmation\n",
    "    print(f\"Code: {code} - Completed\")\n",
    "    print(\"-------------------------------------------\")"
   ]
  }
 ],
 "metadata": {
  "kernelspec": {
   "display_name": "Python 3 (ipykernel)",
   "language": "python",
   "name": "python3"
  },
  "language_info": {
   "codemirror_mode": {
    "name": "ipython",
    "version": 3
   },
   "file_extension": ".py",
   "mimetype": "text/x-python",
   "name": "python",
   "nbconvert_exporter": "python",
   "pygments_lexer": "ipython3",
   "version": "3.11.4"
  }
 },
 "nbformat": 4,
 "nbformat_minor": 5
}
