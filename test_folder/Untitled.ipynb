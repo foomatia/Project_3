{
 "cells": [
  {
   "cell_type": "code",
   "execution_count": 6,
   "id": "01741bbd",
   "metadata": {},
   "outputs": [],
   "source": [
    "# Import dependencies\n",
    "import pandas as pd\n",
    "from config import geo_key\n",
    "from pprint import pprint\n",
    "import requests\n",
    "import json"
   ]
  },
  {
   "cell_type": "markdown",
   "id": "70eeef5b",
   "metadata": {},
   "source": [
    "https://services1.arcgis.com/ESMARspQHYMw9BZ9/arcgis/rest/services/Regions_December_2022_Boundaries_EN_BFC_V2/FeatureServer/0/query?outFields=*&where=RGN22NM='West Midlands&f=geojson"
   ]
  },
  {
   "cell_type": "code",
   "execution_count": 26,
   "id": "76115498",
   "metadata": {},
   "outputs": [],
   "source": [
    "base_url = \"https://services1.arcgis.com/ESMARspQHYMw9BZ9/arcgis/rest/services/Regions_December_2022_Boundaries_EN_BFC_V2/FeatureServer/0/query\"\n",
    "\n",
    "params = {\n",
    "    \"outFields\":\"*\",\n",
    "    \"where\":\"RGN22NM='West Midlands'\",\n",
    "    \"f\":\"geojson\",\n",
    "    \"geometryType\": \"esriGeometryPolygon\"\n",
    "}"
   ]
  },
  {
   "cell_type": "code",
   "execution_count": 27,
   "id": "1facca54",
   "metadata": {},
   "outputs": [
    {
     "name": "stdout",
     "output_type": "stream",
     "text": [
      "<Response [200]>\n"
     ]
    }
   ],
   "source": [
    "response = requests.get(base_url, params=params)\n",
    "\n",
    "print(response)"
   ]
  },
  {
   "cell_type": "code",
   "execution_count": 30,
   "id": "ca02a816",
   "metadata": {},
   "outputs": [],
   "source": [
    "response_json = response.json()"
   ]
  },
  {
   "cell_type": "code",
   "execution_count": 31,
   "id": "976e4635",
   "metadata": {},
   "outputs": [
    {
     "data": {
      "text/plain": [
       "<function TextIOWrapper.close()>"
      ]
     },
     "execution_count": 31,
     "metadata": {},
     "output_type": "execute_result"
    }
   ],
   "source": [
    "file4 = open('../static/west_mids.geojson', 'w')\n",
    "file4.write(json.dumps(response_json))\n",
    "file4.close"
   ]
  },
  {
   "cell_type": "code",
   "execution_count": null,
   "id": "56a23d57",
   "metadata": {},
   "outputs": [],
   "source": []
  }
 ],
 "metadata": {
  "kernelspec": {
   "display_name": "Python 3 (ipykernel)",
   "language": "python",
   "name": "python3"
  },
  "language_info": {
   "codemirror_mode": {
    "name": "ipython",
    "version": 3
   },
   "file_extension": ".py",
   "mimetype": "text/x-python",
   "name": "python",
   "nbconvert_exporter": "python",
   "pygments_lexer": "ipython3",
   "version": "3.11.4"
  }
 },
 "nbformat": 4,
 "nbformat_minor": 5
}
