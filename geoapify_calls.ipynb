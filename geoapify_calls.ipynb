{
 "cells": [
  {
   "cell_type": "markdown",
   "id": "7e98d138",
   "metadata": {},
   "source": [
    "Use this Notebook to obtain the Lat/Lon values through the Batch API request tool on geoapify.com"
   ]
  },
  {
   "cell_type": "code",
   "execution_count": 10,
   "id": "8a764c83",
   "metadata": {},
   "outputs": [],
   "source": [
    "# Import dependencies\n",
    "import pandas as pd\n",
    "from geobatchpy import Client\n",
    "from config import geo_key\n",
    "from pprint import pprint"
   ]
  },
  {
   "cell_type": "code",
   "execution_count": 3,
   "id": "dc48d53d",
   "metadata": {},
   "outputs": [
    {
     "data": {
      "text/html": [
       "<div>\n",
       "<style scoped>\n",
       "    .dataframe tbody tr th:only-of-type {\n",
       "        vertical-align: middle;\n",
       "    }\n",
       "\n",
       "    .dataframe tbody tr th {\n",
       "        vertical-align: top;\n",
       "    }\n",
       "\n",
       "    .dataframe thead th {\n",
       "        text-align: right;\n",
       "    }\n",
       "</style>\n",
       "<table border=\"1\" class=\"dataframe\">\n",
       "  <thead>\n",
       "    <tr style=\"text-align: right;\">\n",
       "      <th></th>\n",
       "      <th>URN</th>\n",
       "      <th>School name</th>\n",
       "      <th>Postcode</th>\n",
       "    </tr>\n",
       "  </thead>\n",
       "  <tbody>\n",
       "    <tr>\n",
       "      <th>0</th>\n",
       "      <td>103157</td>\n",
       "      <td>Shaw Hill Primary School</td>\n",
       "      <td>B8 3AN</td>\n",
       "    </tr>\n",
       "    <tr>\n",
       "      <th>1</th>\n",
       "      <td>103159</td>\n",
       "      <td>Adderley Primary School</td>\n",
       "      <td>B8 1DZ</td>\n",
       "    </tr>\n",
       "    <tr>\n",
       "      <th>2</th>\n",
       "      <td>103162</td>\n",
       "      <td>Barford Primary School</td>\n",
       "      <td>B16 0EF</td>\n",
       "    </tr>\n",
       "    <tr>\n",
       "      <th>3</th>\n",
       "      <td>103163</td>\n",
       "      <td>Beeches Junior School</td>\n",
       "      <td>B42 2PY</td>\n",
       "    </tr>\n",
       "    <tr>\n",
       "      <th>4</th>\n",
       "      <td>103164</td>\n",
       "      <td>Beeches Infant School</td>\n",
       "      <td>B42 2PY</td>\n",
       "    </tr>\n",
       "  </tbody>\n",
       "</table>\n",
       "</div>"
      ],
      "text/plain": [
       "      URN               School name Postcode\n",
       "0  103157  Shaw Hill Primary School   B8 3AN\n",
       "1  103159   Adderley Primary School   B8 1DZ\n",
       "2  103162    Barford Primary School  B16 0EF\n",
       "3  103163     Beeches Junior School  B42 2PY\n",
       "4  103164     Beeches Infant School  B42 2PY"
      ]
     },
     "execution_count": 3,
     "metadata": {},
     "output_type": "execute_result"
    }
   ],
   "source": [
    "# Read in the school_postal csv\n",
    "schools_df = pd.read_csv(\"Resources/school_postal.csv\")\n",
    "\n",
    "schools_df.head()"
   ]
  },
  {
   "cell_type": "code",
   "execution_count": 5,
   "id": "c3eea1bc",
   "metadata": {},
   "outputs": [
    {
     "name": "stdout",
     "output_type": "stream",
     "text": [
      "postcodes_1 length: 1000\n",
      "postcodes_2 length: 1000\n",
      "postcodes_3 length: 192\n"
     ]
    }
   ],
   "source": [
    "# Geoapify have a 1000 address limit on their batch service.\n",
    "# Loop through and assign the postcodes to a list no greater than 1000\n",
    "postcodes_1 = []\n",
    "postcodes_2 = []\n",
    "postcodes_3 = []\n",
    "\n",
    "for i, r in schools_df.iterrows():\n",
    "    if i < 1000:\n",
    "        postcodes_1.append(r[\"Postcode\"])\n",
    "    elif (i >= 1000) and (i < 2000):\n",
    "        postcodes_2.append(r[\"Postcode\"])\n",
    "    else: postcodes_3.append(r[\"Postcode\"])\n",
    "        \n",
    "print(f\"postcodes_1 length: {len(postcodes_1)}\")\n",
    "print(f\"postcodes_2 length: {len(postcodes_2)}\")\n",
    "print(f\"postcodes_3 length: {len(postcodes_3)}\")"
   ]
  },
  {
   "cell_type": "code",
   "execution_count": 7,
   "id": "3dd652a2",
   "metadata": {},
   "outputs": [],
   "source": [
    "# Setup geobatchpy client\n",
    "\n",
    "client = Client(api_key=geo_key)\n",
    "\n",
    "# assign the first 1000 postcodes\n",
    "addresses = postcodes_1\n",
    "\n",
    "# Run the first 1000 postcodes and assign to 'res'\n",
    "res = client.batch.geocode(locations=addresses, parameters={\"type\":\"postcode\"}, simplify_output=True)"
   ]
  },
  {
   "cell_type": "code",
   "execution_count": 16,
   "id": "3ab1d152",
   "metadata": {
    "scrolled": true
   },
   "outputs": [
    {
     "name": "stdout",
     "output_type": "stream",
     "text": [
      "1000\n"
     ]
    }
   ],
   "source": [
    "# Check length of res\n",
    "print(len(res))"
   ]
  },
  {
   "cell_type": "code",
   "execution_count": 21,
   "id": "b65a4481",
   "metadata": {},
   "outputs": [],
   "source": [
    "# Repeat above steps for postcodes_2 and postcodes_3\n",
    "# assign the next batch of postcodes\n",
    "addresses = postcodes_2\n",
    "\n",
    "# run the next batch\n",
    "res2 = client.batch.geocode(locations=addresses, parameters={\"type\":\"postcode\"}, simplify_output=True)"
   ]
  },
  {
   "cell_type": "code",
   "execution_count": 24,
   "id": "0cbe6388",
   "metadata": {
    "scrolled": true
   },
   "outputs": [
    {
     "name": "stdout",
     "output_type": "stream",
     "text": [
      "1000\n"
     ]
    }
   ],
   "source": [
    "print(len(res2))"
   ]
  },
  {
   "cell_type": "code",
   "execution_count": 27,
   "id": "bfd9da39",
   "metadata": {},
   "outputs": [],
   "source": [
    "# assign the next batch of postcodes\n",
    "addresses = postcodes_3\n",
    "\n",
    "# run the next batch\n",
    "res3 = client.batch.geocode(locations=addresses, parameters={\"type\":\"postcode\"}, simplify_output=True)"
   ]
  },
  {
   "cell_type": "code",
   "execution_count": 28,
   "id": "faa97378",
   "metadata": {},
   "outputs": [
    {
     "name": "stdout",
     "output_type": "stream",
     "text": [
      "192\n"
     ]
    }
   ],
   "source": [
    "print(len(res3))"
   ]
  },
  {
   "cell_type": "code",
   "execution_count": 29,
   "id": "6172d636",
   "metadata": {},
   "outputs": [
    {
     "name": "stdout",
     "output_type": "stream",
     "text": [
      "2192\n"
     ]
    }
   ],
   "source": [
    "# Loop through the results and append to a new list\n",
    "lat_lon = []\n",
    "\n",
    "for r in res:\n",
    "    lat_lon.append([r['lat'],r['lon']])\n",
    "\n",
    "for r2 in res2:\n",
    "    lat_lon.append([r2['lat'],r2['lon']])\n",
    "\n",
    "for r3 in res3:\n",
    "    lat_lon.append([r3['lat'],r3['lon']])\n",
    "    \n",
    "print(len(lat_lon))"
   ]
  },
  {
   "cell_type": "code",
   "execution_count": 31,
   "id": "00c985f4",
   "metadata": {},
   "outputs": [
    {
     "data": {
      "text/html": [
       "<div>\n",
       "<style scoped>\n",
       "    .dataframe tbody tr th:only-of-type {\n",
       "        vertical-align: middle;\n",
       "    }\n",
       "\n",
       "    .dataframe tbody tr th {\n",
       "        vertical-align: top;\n",
       "    }\n",
       "\n",
       "    .dataframe thead th {\n",
       "        text-align: right;\n",
       "    }\n",
       "</style>\n",
       "<table border=\"1\" class=\"dataframe\">\n",
       "  <thead>\n",
       "    <tr style=\"text-align: right;\">\n",
       "      <th></th>\n",
       "      <th>URN</th>\n",
       "      <th>School name</th>\n",
       "      <th>Postcode</th>\n",
       "      <th>lat</th>\n",
       "      <th>lon</th>\n",
       "    </tr>\n",
       "  </thead>\n",
       "  <tbody>\n",
       "    <tr>\n",
       "      <th>2187</th>\n",
       "      <td>149608</td>\n",
       "      <td>Greenfield Primary School</td>\n",
       "      <td>WS4 1PL</td>\n",
       "      <td>52.614106</td>\n",
       "      <td>-1.955821</td>\n",
       "    </tr>\n",
       "    <tr>\n",
       "      <th>2188</th>\n",
       "      <td>149635</td>\n",
       "      <td>Smestow Academy</td>\n",
       "      <td>WV3 8HU</td>\n",
       "      <td>52.581579</td>\n",
       "      <td>-2.185747</td>\n",
       "    </tr>\n",
       "    <tr>\n",
       "      <th>2189</th>\n",
       "      <td>149639</td>\n",
       "      <td>Green Lea First School</td>\n",
       "      <td>ST18 0EU</td>\n",
       "      <td>52.881925</td>\n",
       "      <td>-2.033158</td>\n",
       "    </tr>\n",
       "    <tr>\n",
       "      <th>2190</th>\n",
       "      <td>149649</td>\n",
       "      <td>Much Wenlock Primary School</td>\n",
       "      <td>TF13 6JG</td>\n",
       "      <td>52.591979</td>\n",
       "      <td>-2.555041</td>\n",
       "    </tr>\n",
       "    <tr>\n",
       "      <th>2191</th>\n",
       "      <td>149872</td>\n",
       "      <td>The Oaks Primary School</td>\n",
       "      <td>B14 5RY</td>\n",
       "      <td>52.404985</td>\n",
       "      <td>-1.901706</td>\n",
       "    </tr>\n",
       "  </tbody>\n",
       "</table>\n",
       "</div>"
      ],
      "text/plain": [
       "         URN                  School name  Postcode        lat       lon\n",
       "2187  149608    Greenfield Primary School   WS4 1PL  52.614106 -1.955821\n",
       "2188  149635              Smestow Academy   WV3 8HU  52.581579 -2.185747\n",
       "2189  149639       Green Lea First School  ST18 0EU  52.881925 -2.033158\n",
       "2190  149649  Much Wenlock Primary School  TF13 6JG  52.591979 -2.555041\n",
       "2191  149872      The Oaks Primary School   B14 5RY  52.404985 -1.901706"
      ]
     },
     "execution_count": 31,
     "metadata": {},
     "output_type": "execute_result"
    }
   ],
   "source": [
    "# Add the lat lon values to the df\n",
    "schools_df[['lat','lon']] = lat_lon\n",
    "\n",
    "schools_df.tail()"
   ]
  },
  {
   "cell_type": "code",
   "execution_count": 32,
   "id": "f2c2ae77",
   "metadata": {},
   "outputs": [],
   "source": [
    "# Pass the completed df to a csv\n",
    "schools_df.to_csv(\"Resources/school_lat_lon_complete.csv\", index=False)"
   ]
  }
 ],
 "metadata": {
  "kernelspec": {
   "display_name": "Python 3 (ipykernel)",
   "language": "python",
   "name": "python3"
  },
  "language_info": {
   "codemirror_mode": {
    "name": "ipython",
    "version": 3
   },
   "file_extension": ".py",
   "mimetype": "text/x-python",
   "name": "python",
   "nbconvert_exporter": "python",
   "pygments_lexer": "ipython3",
   "version": "3.11.4"
  }
 },
 "nbformat": 4,
 "nbformat_minor": 5
}
