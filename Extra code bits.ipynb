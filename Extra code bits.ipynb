{
 "cells": [
  {
   "cell_type": "markdown",
   "id": "74ea60c1",
   "metadata": {},
   "source": [
    "### Arfan Code"
   ]
  },
  {
   "cell_type": "code",
   "execution_count": null,
   "id": "bd33197b",
   "metadata": {},
   "outputs": [],
   "source": [
    "# Update data types\n",
    "reduced_df = reduced_df.astype({\"URN\":\"int64\",\n",
    "                               \"Total number of pupils\":\"int64\",\n",
    "                               \"Overall effectiveness\":\"int64\",\n",
    "                               })"
   ]
  },
  {
   "cell_type": "code",
   "execution_count": null,
   "id": "f8a99c41",
   "metadata": {},
   "outputs": [],
   "source": [
    "from geopy.geocoders import Nominatim\n",
    "import pandas as pd\n",
    "\n",
    "# Assuming df is your DataFrame\n",
    "df = pd.read_csv(\"Resources/State_funded_schools_inspections_and_outcomes_as_at_31_August_2023.csv\", encoding='latin-1')\n",
    "\n",
    "# Create a geolocator using Nominatim\n",
    "geolocator = Nominatim(user_agent=\"school_geocoder\")\n",
    "\n",
    "# Function to get latitude and longitude from address\n",
    "def get_lat_lon(Postcode):\n",
    "    location = geolocator.geocode(Postcode)\n",
    "    return (location.latitude, location.longitude) if location else (None, None)\n",
    "\n",
    "# Apply the function to the 'Postcode' column\n",
    "df['Latitude'], df['Longitude'] = zip(*df['Postcode'].apply(get_lat_lon))\n",
    "\n",
    "# Display the DataFrame with School name, Latitude, and Longitude columns\n",
    "result_df = df[['School name', 'Latitude', 'Longitude']]\n",
    "print(result_df)"
   ]
  },
  {
   "cell_type": "code",
   "execution_count": null,
   "id": "3749678b",
   "metadata": {},
   "outputs": [],
   "source": [
    "result_df.head"
   ]
  },
  {
   "cell_type": "code",
   "execution_count": null,
   "id": "526b5432",
   "metadata": {},
   "outputs": [],
   "source": [
    "def get_lat_lon(Postcode):\n",
    "    location = geolocator.geocode(Postcode)\n",
    "    print(location)  # Add this line to print the geocoding results\n",
    "    return (location.latitude, location.longitude) if location else (None, None)"
   ]
  },
  {
   "cell_type": "code",
   "execution_count": null,
   "id": "ffa2449f",
   "metadata": {},
   "outputs": [],
   "source": [
    "result_df.to_csv(\"Resources/result_df.csv\")"
   ]
  },
  {
   "cell_type": "code",
   "execution_count": null,
   "id": "2dcddfb5",
   "metadata": {},
   "outputs": [],
   "source": [
    "import time\n",
    "\n",
    "def get_lat_lon(Postcode):\n",
    "    location = geolocator.geocode(Postcode)\n",
    "    time.sleep(1)  # Add a 1-second delay to avoid rate limits\n",
    "    return (location.latitude, location.longitude) if location else (None, None)"
   ]
  },
  {
   "cell_type": "code",
   "execution_count": null,
   "id": "15da2907",
   "metadata": {},
   "outputs": [],
   "source": [
    "import pandas as pd\n",
    "\n",
    "# Assuming df is your original DataFrame\n",
    "df = pd.read_csv(\"Resources/State_funded_schools_inspections_and_outcomes_as_at_31_August_2023.csv\", encoding='latin-1')\n",
    "\n",
    "# Filter the DataFrame for 'Local authority' equals 'Birmingham'\n",
    "West_Midlands_df = df[df['ofsted region'] == 'West Midlands']\n",
    "\n",
    "# Display the first few rows of the filtered DataFrame\n",
    "print(West_Midlands.head())"
   ]
  },
  {
   "cell_type": "code",
   "execution_count": null,
   "id": "e9053451",
   "metadata": {},
   "outputs": [],
   "source": [
    "import pandas as pd\n",
    "df = pd.read_csv(\"Resources/State_funded_schools_inspections_and_outcomes_as_at_31_August_2023.csv\", encoding='ISO-8859-1')\n",
    "\n",
    "\n",
    "\n",
    "\n",
    "\n",
    "# Define the region you want to filter on\n",
    "target_region = 'West Midlands'\n",
    "\n",
    "# Filter the DataFrame based on the 'Ofsted_region' column\n",
    "west_midlands_df = df[df['Ofsted region'] == target_region]\n",
    "\n",
    "# Display the first few rows of the filtered DataFrame\n",
    "print(west_midlands_df.head())"
   ]
  },
  {
   "cell_type": "code",
   "execution_count": null,
   "id": "746c9887",
   "metadata": {},
   "outputs": [],
   "source": [
    "west_midlands_df.to_csv(\"Resources/west_midlands_df.csv\")"
   ]
  },
  {
   "cell_type": "code",
   "execution_count": null,
   "id": "3e4490e7",
   "metadata": {},
   "outputs": [],
   "source": [
    "west_midlands_df.info"
   ]
  },
  {
   "cell_type": "code",
   "execution_count": null,
   "id": "34197c4b",
   "metadata": {},
   "outputs": [],
   "source": [
    "import pandas as pd\n",
    "\n",
    "# Assuming df is your DataFrame\n",
    "df = pd.read_csv(\"your_file.csv\", encoding='latin-1')\n",
    "\n",
    "# Define the target region and local authority\n",
    "target_region = 'West Midlands'\n",
    "target_local_authority = 'Birmingham'\n",
    "\n",
    "# Filter the DataFrame based on both conditions\n",
    "filtered_df = df[(df['Ofsted_region'] == target_region) & (df['Local authority'] == target_local_authority)]\n",
    "\n",
    "# Display the first few rows of the filtered DataFrame\n",
    "print(filtered_df.head())"
   ]
  },
  {
   "cell_type": "code",
   "execution_count": null,
   "id": "b69f9a54",
   "metadata": {},
   "outputs": [],
   "source": [
    "import pandas as pd\n",
    "df = pd.read_csv(\"Resources/State_funded_schools_inspections_and_outcomes_as_at_31_August_2023.csv\", encoding='ISO-8859-1')\n",
    "\n",
    "\n",
    "# Define the target region and local authority\n",
    "target_region = 'West Midlands'\n",
    "target_local_authority = 'Birmingham'\n",
    "\n",
    "# Filter the DataFrame based on both conditions\n",
    "filtered_df = df[(df['Ofsted region'] == target_region) & (df['Local authority'] == target_local_authority)]\n",
    "\n",
    "# Display the first few rows of the filtered DataFrame\n",
    "print(filtered_df.head())"
   ]
  },
  {
   "cell_type": "code",
   "execution_count": null,
   "id": "e695305c",
   "metadata": {},
   "outputs": [],
   "source": [
    "filtered_df.info"
   ]
  },
  {
   "cell_type": "code",
   "execution_count": null,
   "id": "212bddf7",
   "metadata": {},
   "outputs": [],
   "source": [
    "filtered_df.to_csv(\"Resources/filtered_df.csv\")"
   ]
  },
  {
   "cell_type": "code",
   "execution_count": null,
   "id": "fb7776e9",
   "metadata": {},
   "outputs": [],
   "source": [
    "import pandas as pd\n",
    "from geopy.geocoders import Nominatim\n",
    "\n",
    "# Assuming df is your DataFrame\n",
    "df = pd.read_csv(\"Resources/State_funded_schools_inspections_and_outcomes_as_at_31_August_2023.csv\", encoding='ISO-8859-1')\n",
    "\n",
    "# Define the target region and local authority\n",
    "target_region = 'West Midlands'\n",
    "target_local_authority = 'Birmingham'\n",
    "\n",
    "# Filter the DataFrame based on both conditions\n",
    "filtered1_df = df[(df['Ofsted region'] == target_region) & (df['Local authority'] == target_local_authority)]\n",
    "\n",
    "# Create a geolocator using Nominatim\n",
    "geolocator = Nominatim(user_agent=\"school_geocoder\")\n",
    "\n",
    "# Function to get latitude and longitude from address (Postcode)\n",
    "def get_lat_lon(postcode):\n",
    "    location = geolocator.geocode(postcode)\n",
    "    return (location.latitude, location.longitude) if location else (None, None)\n",
    "\n",
    "# Apply the function to the 'Postcode' column\n",
    "filtered1_df['Latitude'], filtered1_df['Longitude'] = zip(*filtered1_df['Postcode'].apply(get_lat_lon))\n",
    "\n",
    "# Display the first few rows of the updated DataFrame\n",
    "print(filtered1_df.head())"
   ]
  },
  {
   "cell_type": "code",
   "execution_count": null,
   "id": "4cba611c",
   "metadata": {},
   "outputs": [],
   "source": [
    "filtered1_df.to_csv(\"Resources/filtered1_df.csv\")"
   ]
  },
  {
   "cell_type": "code",
   "execution_count": null,
   "id": "ae67d700",
   "metadata": {},
   "outputs": [],
   "source": [
    "import sqlite3\n",
    "import pandas as pd\n",
    "# Import dependencies.\n",
    "import matplotlib\n",
    "from matplotlib import style\n",
    "style.use('fivethirtyeight')\n",
    "import matplotlib.pyplot as plt\n",
    "import pandas as pd\n",
    "\n",
    "# Python SQL toolkit and Object Relational Mapper\n",
    "import sqlalchemy\n",
    "from sqlalchemy.ext.automap import automap_base\n",
    "from sqlalchemy.orm import Session\n",
    "from sqlalchemy import create_engine, text, inspect, func"
   ]
  },
  {
   "cell_type": "code",
   "execution_count": null,
   "id": "81df2baa",
   "metadata": {},
   "outputs": [],
   "source": [
    "df2 = pd.read_csv(\"Resources/filtered1_df.csv\", encoding='latin-1')"
   ]
  },
  {
   "cell_type": "code",
   "execution_count": null,
   "id": "47be39bc",
   "metadata": {},
   "outputs": [],
   "source": []
  },
  {
   "cell_type": "code",
   "execution_count": null,
   "id": "d02547d1",
   "metadata": {},
   "outputs": [],
   "source": []
  },
  {
   "cell_type": "code",
   "execution_count": null,
   "id": "dc3ec70e",
   "metadata": {},
   "outputs": [],
   "source": []
  },
  {
   "cell_type": "code",
   "execution_count": null,
   "id": "45cc2e3a",
   "metadata": {},
   "outputs": [],
   "source": []
  }
 ],
 "metadata": {
  "kernelspec": {
   "display_name": "Python 3 (ipykernel)",
   "language": "python",
   "name": "python3"
  },
  "language_info": {
   "codemirror_mode": {
    "name": "ipython",
    "version": 3
   },
   "file_extension": ".py",
   "mimetype": "text/x-python",
   "name": "python",
   "nbconvert_exporter": "python",
   "pygments_lexer": "ipython3",
   "version": "3.11.4"
  }
 },
 "nbformat": 4,
 "nbformat_minor": 5
}
